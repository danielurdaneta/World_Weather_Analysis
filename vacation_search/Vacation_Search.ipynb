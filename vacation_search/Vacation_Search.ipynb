{
 "cells": [
  {
   "cell_type": "markdown",
   "metadata": {},
   "source": [
    "## Deliverable 2. Create a Customer Travel Destinations Map."
   ]
  },
  {
   "cell_type": "code",
   "execution_count": 2,
   "metadata": {},
   "outputs": [],
   "source": [
    "# Dependencies and Setup\n",
    "import pandas as pd\n",
    "import requests\n",
    "import gmaps\n",
    "\n",
    "# Import API key\n",
    "from config import g_key\n",
    "\n",
    "# Configure gmaps API key\n",
    "gmaps.configure(api_key=g_key)"
   ]
  },
  {
   "cell_type": "code",
   "execution_count": 10,
   "metadata": {},
   "outputs": [
    {
     "data": {
      "text/html": [
       "<div>\n",
       "<style scoped>\n",
       "    .dataframe tbody tr th:only-of-type {\n",
       "        vertical-align: middle;\n",
       "    }\n",
       "\n",
       "    .dataframe tbody tr th {\n",
       "        vertical-align: top;\n",
       "    }\n",
       "\n",
       "    .dataframe thead th {\n",
       "        text-align: right;\n",
       "    }\n",
       "</style>\n",
       "<table border=\"1\" class=\"dataframe\">\n",
       "  <thead>\n",
       "    <tr style=\"text-align: right;\">\n",
       "      <th></th>\n",
       "      <th>City_ID</th>\n",
       "      <th>City</th>\n",
       "      <th>Country</th>\n",
       "      <th>Lat</th>\n",
       "      <th>Lng</th>\n",
       "      <th>Max Temp</th>\n",
       "      <th>Humidity</th>\n",
       "      <th>Cloudiness</th>\n",
       "      <th>Wind Speed</th>\n",
       "      <th>Weather Description</th>\n",
       "    </tr>\n",
       "  </thead>\n",
       "  <tbody>\n",
       "    <tr>\n",
       "      <th>0</th>\n",
       "      <td>0</td>\n",
       "      <td>Gatton</td>\n",
       "      <td>AU</td>\n",
       "      <td>-27.5500</td>\n",
       "      <td>152.2833</td>\n",
       "      <td>56.34</td>\n",
       "      <td>62</td>\n",
       "      <td>100</td>\n",
       "      <td>2.46</td>\n",
       "      <td>overcast clouds</td>\n",
       "    </tr>\n",
       "    <tr>\n",
       "      <th>1</th>\n",
       "      <td>1</td>\n",
       "      <td>Springdale</td>\n",
       "      <td>US</td>\n",
       "      <td>36.1867</td>\n",
       "      <td>-94.1288</td>\n",
       "      <td>68.49</td>\n",
       "      <td>66</td>\n",
       "      <td>40</td>\n",
       "      <td>9.22</td>\n",
       "      <td>scattered clouds</td>\n",
       "    </tr>\n",
       "    <tr>\n",
       "      <th>2</th>\n",
       "      <td>2</td>\n",
       "      <td>Mogadishu</td>\n",
       "      <td>SO</td>\n",
       "      <td>2.0371</td>\n",
       "      <td>45.3438</td>\n",
       "      <td>78.33</td>\n",
       "      <td>84</td>\n",
       "      <td>86</td>\n",
       "      <td>14.03</td>\n",
       "      <td>overcast clouds</td>\n",
       "    </tr>\n",
       "    <tr>\n",
       "      <th>3</th>\n",
       "      <td>3</td>\n",
       "      <td>Vestmannaeyjar</td>\n",
       "      <td>IS</td>\n",
       "      <td>63.4427</td>\n",
       "      <td>-20.2734</td>\n",
       "      <td>45.45</td>\n",
       "      <td>87</td>\n",
       "      <td>100</td>\n",
       "      <td>36.08</td>\n",
       "      <td>moderate rain</td>\n",
       "    </tr>\n",
       "    <tr>\n",
       "      <th>4</th>\n",
       "      <td>4</td>\n",
       "      <td>Tukrah</td>\n",
       "      <td>LY</td>\n",
       "      <td>32.5341</td>\n",
       "      <td>20.5791</td>\n",
       "      <td>70.32</td>\n",
       "      <td>74</td>\n",
       "      <td>31</td>\n",
       "      <td>20.54</td>\n",
       "      <td>scattered clouds</td>\n",
       "    </tr>\n",
       "    <tr>\n",
       "      <th>...</th>\n",
       "      <td>...</td>\n",
       "      <td>...</td>\n",
       "      <td>...</td>\n",
       "      <td>...</td>\n",
       "      <td>...</td>\n",
       "      <td>...</td>\n",
       "      <td>...</td>\n",
       "      <td>...</td>\n",
       "      <td>...</td>\n",
       "      <td>...</td>\n",
       "    </tr>\n",
       "    <tr>\n",
       "      <th>95</th>\n",
       "      <td>95</td>\n",
       "      <td>Knysna</td>\n",
       "      <td>ZA</td>\n",
       "      <td>-34.0363</td>\n",
       "      <td>23.0471</td>\n",
       "      <td>57.58</td>\n",
       "      <td>87</td>\n",
       "      <td>58</td>\n",
       "      <td>9.93</td>\n",
       "      <td>light rain</td>\n",
       "    </tr>\n",
       "    <tr>\n",
       "      <th>96</th>\n",
       "      <td>96</td>\n",
       "      <td>Bengkulu</td>\n",
       "      <td>ID</td>\n",
       "      <td>-3.8004</td>\n",
       "      <td>102.2655</td>\n",
       "      <td>75.33</td>\n",
       "      <td>86</td>\n",
       "      <td>96</td>\n",
       "      <td>4.05</td>\n",
       "      <td>overcast clouds</td>\n",
       "    </tr>\n",
       "    <tr>\n",
       "      <th>97</th>\n",
       "      <td>97</td>\n",
       "      <td>Castro</td>\n",
       "      <td>BR</td>\n",
       "      <td>-24.7911</td>\n",
       "      <td>-50.0119</td>\n",
       "      <td>67.55</td>\n",
       "      <td>69</td>\n",
       "      <td>57</td>\n",
       "      <td>4.92</td>\n",
       "      <td>broken clouds</td>\n",
       "    </tr>\n",
       "    <tr>\n",
       "      <th>98</th>\n",
       "      <td>98</td>\n",
       "      <td>Camacha</td>\n",
       "      <td>PT</td>\n",
       "      <td>33.0833</td>\n",
       "      <td>-16.3333</td>\n",
       "      <td>63.82</td>\n",
       "      <td>72</td>\n",
       "      <td>75</td>\n",
       "      <td>13.80</td>\n",
       "      <td>broken clouds</td>\n",
       "    </tr>\n",
       "    <tr>\n",
       "      <th>99</th>\n",
       "      <td>99</td>\n",
       "      <td>Porto Santo</td>\n",
       "      <td>PT</td>\n",
       "      <td>33.0720</td>\n",
       "      <td>-16.3415</td>\n",
       "      <td>66.58</td>\n",
       "      <td>72</td>\n",
       "      <td>75</td>\n",
       "      <td>13.80</td>\n",
       "      <td>broken clouds</td>\n",
       "    </tr>\n",
       "  </tbody>\n",
       "</table>\n",
       "<p>100 rows × 10 columns</p>\n",
       "</div>"
      ],
      "text/plain": [
       "    City_ID            City Country      Lat       Lng  Max Temp  Humidity  \\\n",
       "0         0          Gatton      AU -27.5500  152.2833     56.34        62   \n",
       "1         1      Springdale      US  36.1867  -94.1288     68.49        66   \n",
       "2         2       Mogadishu      SO   2.0371   45.3438     78.33        84   \n",
       "3         3  Vestmannaeyjar      IS  63.4427  -20.2734     45.45        87   \n",
       "4         4          Tukrah      LY  32.5341   20.5791     70.32        74   \n",
       "..      ...             ...     ...      ...       ...       ...       ...   \n",
       "95       95          Knysna      ZA -34.0363   23.0471     57.58        87   \n",
       "96       96        Bengkulu      ID  -3.8004  102.2655     75.33        86   \n",
       "97       97          Castro      BR -24.7911  -50.0119     67.55        69   \n",
       "98       98         Camacha      PT  33.0833  -16.3333     63.82        72   \n",
       "99       99     Porto Santo      PT  33.0720  -16.3415     66.58        72   \n",
       "\n",
       "    Cloudiness  Wind Speed Weather Description  \n",
       "0          100        2.46     overcast clouds  \n",
       "1           40        9.22    scattered clouds  \n",
       "2           86       14.03     overcast clouds  \n",
       "3          100       36.08       moderate rain  \n",
       "4           31       20.54    scattered clouds  \n",
       "..         ...         ...                 ...  \n",
       "95          58        9.93          light rain  \n",
       "96          96        4.05     overcast clouds  \n",
       "97          57        4.92       broken clouds  \n",
       "98          75       13.80       broken clouds  \n",
       "99          75       13.80       broken clouds  \n",
       "\n",
       "[100 rows x 10 columns]"
      ]
     },
     "execution_count": 10,
     "metadata": {},
     "output_type": "execute_result"
    }
   ],
   "source": [
    "# 1. Import the WeatherPy_database.csv file. \n",
    "city_data_df = pd.read_csv(\"Weather_Database/WeatherPy_database.csv\")\n",
    "city_data_df"
   ]
  },
  {
   "cell_type": "code",
   "execution_count": 11,
   "metadata": {},
   "outputs": [
    {
     "name": "stdout",
     "output_type": "stream",
     "text": [
      "What is the minimum temperature you would like for your trip? 60\n",
      "What is the maximum temperature you would like for your trip? 70\n"
     ]
    }
   ],
   "source": [
    "# 2. Prompt the user to enter minimum and maximum temperature criteria \n",
    "min_temp = float(input(\"What is the minimum temperature you would like for your trip? \"))\n",
    "max_temp = float(input(\"What is the maximum temperature you would like for your trip? \"))"
   ]
  },
  {
   "cell_type": "code",
   "execution_count": 12,
   "metadata": {},
   "outputs": [],
   "source": [
    "# 3. Filter the city_data_df DataFrame using the input statements to create a new DataFrame using the loc method.\n",
    "preferred_cities_df = city_data_df.loc[(city_data_df[\"Max Temp\"] <= max_temp) & (city_data_df[\"Max Temp\"] >= min_temp)]"
   ]
  },
  {
   "cell_type": "code",
   "execution_count": 19,
   "metadata": {},
   "outputs": [
    {
     "data": {
      "text/plain": [
       "City_ID                0\n",
       "City                   0\n",
       "Country                2\n",
       "Lat                    0\n",
       "Lng                    0\n",
       "Max Temp               0\n",
       "Humidity               0\n",
       "Cloudiness             0\n",
       "Wind Speed             0\n",
       "Weather Description    0\n",
       "dtype: int64"
      ]
     },
     "execution_count": 19,
     "metadata": {},
     "output_type": "execute_result"
    }
   ],
   "source": [
    "# 4a. Determine if there are any empty rows.\n",
    "preferred_cities_df.isnull().sum"
   ]
  },
  {
   "cell_type": "code",
   "execution_count": 20,
   "metadata": {},
   "outputs": [],
   "source": [
    "# 4b. Drop any empty rows and create a new DataFrame that doesn’t have empty rows.\n",
    "clean_df = preferred_cities_df.dropna()"
   ]
  },
  {
   "cell_type": "code",
   "execution_count": 40,
   "metadata": {},
   "outputs": [
    {
     "data": {
      "text/plain": [
       "City                   130\n",
       "Country                130\n",
       "Max Temp               130\n",
       "Weather Description    130\n",
       "Lat                    130\n",
       "Lng                    130\n",
       "Hotel Name             130\n",
       "dtype: int64"
      ]
     },
     "execution_count": 40,
     "metadata": {},
     "output_type": "execute_result"
    }
   ],
   "source": [
    "# 5a. Create DataFrame called hotel_df to store hotel names along with city, country, max temp, and coordinates.\n",
    "hotel_df = clean_df[[\"City\", \"Country\", \"Max Temp\", \"Weather Description\", \"Lat\", \"Lng\"]].copy()\n",
    "\n",
    "# 5b. Create a new column \"Hotel Name\"\n",
    "hotel_df[\"Hotel Name\"] = \"\"\n",
    "hotel_df.count()"
   ]
  },
  {
   "cell_type": "code",
   "execution_count": 43,
   "metadata": {},
   "outputs": [
    {
     "name": "stdout",
     "output_type": "stream",
     "text": [
      "Hotel not found...skipping\n",
      "Hotel not found...skipping\n",
      "Hotel not found...skipping\n",
      "Hotel not found...skipping\n",
      "Hotel not found...skipping\n",
      "Hotel not found...skipping\n",
      "Hotel not found...skipping\n",
      "Hotel not found...skipping\n",
      "Hotel not found...skipping\n",
      "Hotel not found...skipping\n",
      "Hotel not found...skipping\n",
      "Hotel not found...skipping\n",
      "Hotel not found...skipping\n"
     ]
    }
   ],
   "source": [
    "# 6a. Set parameters to search for hotels with 5000 meters.\n",
    "params = {\n",
    "    \"radius\": 5000,\n",
    "    \"type\": \"lodging\",\n",
    "    \"key\": g_key}\n",
    "\n",
    "# 6b. Iterate through the hotel DataFrame.\n",
    "for index, row in hotel_df.iterrows():\n",
    "    # 6c. Get latitude and longitude from DataFrame\n",
    "    lat = row[\"Lat\"]\n",
    "    lng = row[\"Lng\"]\n",
    "    \n",
    "    params[\"location\"] = f\"{lat},{lng}\"\n",
    "        \n",
    "    # 6d. Set up the base URL for the Google Directions API to get JSON data.\n",
    "    base_url = \"https://maps.googleapis.com/maps/api/place/nearbysearch/json\"\n",
    "   \n",
    "    # 6e. Make request and retrieve the JSON data from the search. \n",
    "    hotels = requests.get(base_url, params=params).json()\n",
    "   \n",
    "     # 6f. Get the first hotel from the results and store the name, if a hotel isn't found skip the city.\n",
    "    try:\n",
    "        hotel_df.loc[index, \"Hotel Name\"] = hotels[\"results\"][0][\"name\"]\n",
    "    except(IndexError):\n",
    "        print(\"Hotel not found...skipping\")\n",
    "      "
   ]
  },
  {
   "cell_type": "code",
   "execution_count": 64,
   "metadata": {},
   "outputs": [],
   "source": [
    "# 7. Drop the rows where there is no Hotel Name.\n",
    "nan_value = float(\"NaN\")\n",
    "hotel_df.replace(\"\", nan_value, inplace=True)\n",
    "hotel_df.dropna(subset = [\"Hotel Name\"], inplace=True)"
   ]
  },
  {
   "cell_type": "code",
   "execution_count": 73,
   "metadata": {},
   "outputs": [],
   "source": [
    "# 8a. Create the output File (CSV)\n",
    "output_data_file = \"Vacation_Search/WeatherPy_vacations.csv\"\n",
    "\n",
    "# 8b. Export the City_Data into a csv\n",
    "hotel_df.to_csv(output_data_file, index_label=\"City_ID\")\n"
   ]
  },
  {
   "cell_type": "code",
   "execution_count": 70,
   "metadata": {},
   "outputs": [],
   "source": [
    "# 9. Using the template add city name, the country code, the weather description and maximum temperature for the city.\n",
    "info_box_template = \"\"\"\n",
    "<dl>\n",
    "<dt>City Name</dt><dd>{City}</dd>\n",
    "<dt>Country</dt><dd>{Country}</dd>\n",
    "<dt>Weather Description</dt><dd>{Weather Description}</dd>\n",
    "<dt>Max Temp</dt><dd>{Max Temp} °F</dd>\n",
    "</dl>\n",
    "\"\"\"\n",
    "\n",
    "# 10a. Get the data from each row and add it to the formatting template and store the data in a list.\n",
    "hotel_info = [info_box_template.format(**row) for index, row in hotel_df.iterrows()]\n",
    "\n",
    "# 10b. Get the latitude and longitude from each row and store in a new DataFrame.\n",
    "locations = hotel_df[[\"Lat\", \"Lng\"]]"
   ]
  },
  {
   "cell_type": "code",
   "execution_count": 72,
   "metadata": {},
   "outputs": [
    {
     "data": {
      "application/vnd.jupyter.widget-view+json": {
       "model_id": "1ba051532a9a4be282cab841d85d314a",
       "version_major": 2,
       "version_minor": 0
      },
      "text/plain": [
       "Figure(layout=FigureLayout(height='420px'))"
      ]
     },
     "metadata": {},
     "output_type": "display_data"
    }
   ],
   "source": [
    "# 11a. Add a marker layer for each city to the map. \n",
    "fig = gmaps.figure(center=(30.0, 31.0), zoom_level=1.5)\n",
    "marker_layer = gmaps.marker_layer(locations, info_box_content=hotel_info)\n",
    "fig.add_layer(marker_layer)\n",
    "# 11b. Display the figure\n",
    "fig"
   ]
  }
 ],
 "metadata": {
  "kernelspec": {
   "display_name": "PythonData",
   "language": "python",
   "name": "pythondata"
  },
  "language_info": {
   "codemirror_mode": {
    "name": "ipython",
    "version": 3
   },
   "file_extension": ".py",
   "mimetype": "text/x-python",
   "name": "python",
   "nbconvert_exporter": "python",
   "pygments_lexer": "ipython3",
   "version": "3.7.9"
  },
  "latex_envs": {
   "LaTeX_envs_menu_present": true,
   "autoclose": false,
   "autocomplete": true,
   "bibliofile": "biblio.bib",
   "cite_by": "apalike",
   "current_citInitial": 1,
   "eqLabelWithNumbers": true,
   "eqNumInitial": 1,
   "hotkeys": {
    "equation": "Ctrl-E",
    "itemize": "Ctrl-I"
   },
   "labels_anchors": false,
   "latex_user_defs": false,
   "report_style_numbering": false,
   "user_envs_cfg": false
  }
 },
 "nbformat": 4,
 "nbformat_minor": 2
}
